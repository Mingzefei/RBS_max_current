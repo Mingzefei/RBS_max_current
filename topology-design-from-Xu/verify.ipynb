{
 "cells": [
  {
   "cell_type": "markdown",
   "metadata": {},
   "source": [
    "### 验证RBS图模型正确性"
   ]
  },
  {
   "cell_type": "code",
   "execution_count": 5,
   "metadata": {},
   "outputs": [
    {
     "name": "stdout",
     "output_type": "stream",
     "text": [
      "layer assigned\n"
     ]
    },
    {
     "data": {
      "image/png": "[encoded data removed]",
      "text/plain": [
       "<Figure size 432x288 with 1 Axes>"
      ]
     },
     "metadata": {},
     "output_type": "display_data"
    },
    {
     "name": "stdout",
     "output_type": "stream",
     "text": [
      "[1, 6]\n"
     ]
    }
   ],
   "source": [
    "from rbs import RBS\n",
    "from mdgraph import MdGraph\n",
    "import networkx as nx \n",
    "import matplotlib.pyplot as plt\n",
    "\n",
    "num_bats = 3\n",
    "Rbs = RBS()\n",
    "gene,terminal = Rbs.gene_f(num_bats)\n",
    "num_sws = int(len(gene)/2)-num_bats\n",
    "MDGra = MdGraph(num_bats,num_sws)\n",
    "G = MDGra.build(gene)\n",
    "G,terminal = MDGra.assign_layer(G,terminal)\n",
    "print('layer assigned')\n",
    "# pos = nx.multipartite_layout(G,subset_key='layer')\n",
    "pos = MDGra.build_pos(G,terminal)\n",
    "# pos = nx.circular_layout(G)\n",
    "nx.draw(G,pos)\n",
    "edge_labels = nx.get_edge_attributes(G,'edge_label')\n",
    "node_labels = nx.get_node_attributes(G,'name')\n",
    "\n",
    "edge_labels_m = {}\n",
    "for nodes_name in edge_labels.keys():\n",
    "    edge_labels_m[(nodes_name[0],nodes_name[1])]=edge_labels[nodes_name]\n",
    "\n",
    "nx.draw_networkx_labels(G,pos,labels=node_labels)\n",
    "nx.draw_networkx_edge_labels(G,pos,edge_labels=edge_labels_m)\n",
    "nx.draw(G,pos,with_labels=True)\n",
    "plt.show()\n",
    "print(terminal)"
   ]
  },
  {
   "cell_type": "code",
   "execution_count": 19,
   "metadata": {},
   "outputs": [
    {
     "name": "stdout",
     "output_type": "stream",
     "text": [
      "(1, 2, {'edge_name': 0, 'edge_label': 0, 'capacity': 1})\n",
      "(2, 3, {'edge_name': 4, 'edge_label': 4, 'capacity': 3})\n",
      "(2, 4, {'edge_name': 7, 'edge_label': 7, 'capacity': 3})\n",
      "(3, 4, {'edge_name': 1, 'edge_label': 1, 'capacity': 1})\n",
      "(4, 5, {'edge_name': 5, 'edge_label': 5, 'capacity': 3})\n",
      "(4, 6, {'edge_name': 8, 'edge_label': 8, 'capacity': 3})\n",
      "(5, 6, {'edge_name': 2, 'edge_label': 2, 'capacity': 1})\n",
      "(0, 1, {'edge_name': 3, 'edge_label': 3, 'capacity': 3})\n",
      "(0, 2, {'edge_name': 6, 'edge_label': 6, 'capacity': 3})\n"
     ]
    }
   ],
   "source": [
    "paths_by_edge = []\n",
    "edges_in_circuit = []\n",
    "for path in nx.all_simple_edge_paths(G,*terminal):\n",
    "    _path_by_edge = [edge_label for source, target, edge_label in path]\n",
    "    paths_by_edge = paths_by_edge + [_path_by_edge]\n",
    "    edges_in_circuit = edges_in_circuit + _path_by_edge \n",
    "edges_in_circuit = set(edges_in_circuit)\n",
    "\n",
    "paths_in_graph = [(source,target,attr) for edge in edges_in_circuit for source,target,attr in G.edges(data=True) if attr['edge_label']==edge]\n",
    "circuit_G = nx.MultiDiGraph()\n",
    "circuit_G.add_edges_from(paths_in_graph)\n",
    "for x in circuit_G.edges(data=True):\n",
    "    print(x)"
   ]
  },
  {
   "cell_type": "markdown",
   "metadata": {},
   "source": [
    "## 指标计算正确性验证"
   ]
  },
  {
   "cell_type": "code",
   "execution_count": 2,
   "metadata": {},
   "outputs": [
    {
     "name": "stdout",
     "output_type": "stream",
     "text": [
      "terminal [0, 6]\n",
      "paths_by_edge [3, 0, 4, 1, 5, 2]\n",
      "paths_by_edge [3, 0, 4, 1, 8]\n",
      "paths_by_edge [3, 0, 7, 5, 2]\n",
      "paths_by_edge [3, 0, 7, 8]\n",
      "paths_by_edge [6, 4, 1, 5, 2]\n",
      "paths_by_edge [6, 4, 1, 8]\n",
      "paths_by_edge [6, 7, 5, 2]\n",
      "[[[3, 0, 4, 1, 5, 2]], [[3, 0, 4, 1, 8]], [[3, 0, 7, 5, 2]], [[3, 0, 7, 8]], [[6, 4, 1, 5, 2]], [[6, 4, 1, 8]], [[6, 7, 5, 2]]]\n",
      "{'f_vol': 1.0, 'f_connect': 1.0, 'f_discon': 1.0, 'f_cur': 0.3333333333333332, 'f_cost': 0.42857142857142855}\n"
     ]
    }
   ],
   "source": [
    "from rbs import RBS\n",
    "from mdgraph import MdGraph\n",
    "import copy\n",
    "import json\n",
    "\n",
    "num_bats= 3\n",
    "Rbs = RBS()\n",
    "gene,terminal = Rbs.gene_a(num_bats)\n",
    "print('terminal',terminal)\n",
    "num_sws = int(len(gene)/2)-num_bats\n",
    "\n",
    "GRA = MdGraph(num_bats,num_sws)\n",
    "G = GRA.build(gene)\n",
    "G,terminal = GRA.select_circuit(G)\n",
    "res = GRA.eva_main(G,terminal)\n",
    "print(res)"
   ]
  }
 ],
 "metadata": {
  "kernelspec": {
   "display_name": "Python 3.9.11 ('topo_opti')",
   "language": "python",
   "name": "python3"
  },
  "language_info": {
   "codemirror_mode": {
    "name": "ipython",
    "version": 3
   },
   "file_extension": ".py",
   "mimetype": "text/x-python",
   "name": "python",
   "nbconvert_exporter": "python",
   "pygments_lexer": "ipython3",
   "version": "3.9.11"
  },
  "orig_nbformat": 4,
  "vscode": {
   "interpreter": {
    "hash": "a571970a77cd0e198a848799a3580a889783effc07b3397ab3eb8c1706db779b"
   }
  }
 },
 "nbformat": 4,
 "nbformat_minor": 2
}
