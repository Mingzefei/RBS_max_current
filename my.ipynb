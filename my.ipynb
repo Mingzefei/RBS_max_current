{
 "cells": [
  {
   "cell_type": "code",
   "execution_count": null,
   "metadata": {},
   "outputs": [],
   "source": [
    "import networkx as nx\n",
    "import numpy as np\n",
    "import scipy.sparse as sp"
   ]
  },
  {
   "cell_type": "code",
   "execution_count": null,
   "metadata": {},
   "outputs": [],
   "source": [
    "incidence_matrix_o = sp.coo_matrix(([-1],([0],[0])), shape=(9,1)).toarray()\n",
    "incidence_matrix_b = sp.coo_matrix(([1,1,1,-1,-1,-1],([2,3,4,5,6,7],[0,1,2,0,1,2])), shape=(9,3)).toarray()\n",
    "incidence_matrix_s = sp.coo_matrix((\n",
    "    [\n",
    "        1,\n",
    "        -1,1,1,1,\n",
    "        -1,1,\n",
    "        -1,1,\n",
    "        -1,\n",
    "        1,\n",
    "        -1,1,\n",
    "        -1,1,\n",
    "        -1,-1,-1,1\n",
    "    ],\n",
    "    (\n",
    "        # [1,2,2,2,2,3,3,4,4,5,6,7,7,8,8,9,9,9,9],\n",
    "        # [1,1,2,3,4,2,5,3,6,4,7,5,8,6,9,7,8,9,10]\n",
    "        [0,1,1,1,1,2,2,3,3,4,5,6,6,7,7,8,8,8,8],\n",
    "        [0,0,1,2,3,1,4,2,5,3,6,4,7,5,8,6,7,8,9]\n",
    "    )\n",
    "    ), shape=(9,10)).toarray()\n",
    "\n",
    "incidence_matrix_total = np.hstack((incidence_matrix_o, incidence_matrix_b, incidence_matrix_s))\n",
    "print(incidence_matrix_total)"
   ]
  },
  {
   "cell_type": "code",
   "execution_count": null,
   "metadata": {},
   "outputs": [],
   "source": [
    "fix_matrix = sp.coo_matrix(([1,-1],([0,0],[0,13])),shape=(1,14)).toarray()\n",
    "fix_incidence_matrix_total = np.vstack((incidence_matrix_total, fix_matrix))\n",
    "print(fix_incidence_matrix_total)"
   ]
  },
  {
   "cell_type": "code",
   "execution_count": null,
   "metadata": {},
   "outputs": [],
   "source": [
    "# 根据关联矩阵计算邻接矩阵\n",
    "n = fix_incidence_matrix_total.shape[0]\n",
    "adj_matrix_new = np.zeros((n, n))\n",
    "for i in range(n):\n",
    "    for j in range(n):\n",
    "        for k in range(fix_incidence_matrix_total.shape[1]):\n",
    "            if fix_incidence_matrix_total[i, k] == 1 and fix_incidence_matrix_total[j, k] == -1:\n",
    "                adj_matrix_new[i, j] = 1\n",
    "\n",
    "print(adj_matrix_new)"
   ]
  },
  {
   "cell_type": "code",
   "execution_count": null,
   "metadata": {},
   "outputs": [],
   "source": [
    "G = nx.DiGraph(adj_matrix_new)\n",
    "# G.number_of_edges()\n",
    "# G.number_of_nodes()\n",
    "nx.draw_networkx(G, with_labels=True, font_weight='bold')"
   ]
  },
  {
   "attachments": {},
   "cell_type": "markdown",
   "metadata": {},
   "source": [
    "拓展\n"
   ]
  },
  {
   "cell_type": "code",
   "execution_count": 42,
   "metadata": {},
   "outputs": [
    {
     "name": "stdout",
     "output_type": "stream",
     "text": [
      "[[-1  0  0  0  1  0  0  0  0  0  0  0  0  0 -1  0  0  0  0  0  0  0  0  0]\n",
      " [ 0  0  0  0 -1  1  1  1  0  0  0  0  0  0  1 -1 -1 -1  0  0  0  0  0  0]\n",
      " [ 0  1  0  0  0 -1  0  0  1  0  0  0  0  0  0  1  0  0 -1  0  0  0  0  0]\n",
      " [ 0  0  1  0  0  0 -1  0  0  1  0  0  0  0  0  0  1  0  0 -1  0  0  0  0]\n",
      " [ 0  0  0  1  0  0  0 -1  0  0  0  0  0  0  0  0  0  1  0  0  0  0  0  0]\n",
      " [ 0 -1  0  0  0  0  0  0  0  0  1  0  0  0  0  0  0  0  0  0 -1  0  0  0]\n",
      " [ 0  0 -1  0  0  0  0  0 -1  0  0  1  0  0  0  0  0  0  1  0  0 -1  0  0]\n",
      " [ 0  0  0 -1  0  0  0  0  0 -1  0  0  1  0  0  0  0  0  0  1  0  0 -1  0]\n",
      " [ 0  0  0  0  0  0  0  0  0  0 -1 -1 -1  1  0  0  0  0  0  0  1  1  1 -1]]\n"
     ]
    }
   ],
   "source": [
    "# 拓展\n",
    "incidence_matrix_o = sp.coo_matrix(([-1],([0],[0])), shape=(9,1)).toarray()\n",
    "incidence_matrix_b = sp.coo_matrix(([1,1,1,-1,-1,-1],([2,3,4,5,6,7],[0,1,2,0,1,2])), shape=(9,3)).toarray()\n",
    "incidence_matrix_s = sp.coo_matrix((\n",
    "    [\n",
    "        1,\n",
    "        -1,1,1,1,\n",
    "        -1,1,\n",
    "        -1,1,\n",
    "        -1,\n",
    "        1,\n",
    "        -1,1,\n",
    "        -1,1,\n",
    "        -1,-1,-1,1\n",
    "    ],\n",
    "    (\n",
    "        # [1,2,2,2,2,3,3,4,4,5,6,7,7,8,8,9,9,9,9],\n",
    "        # [1,1,2,3,4,2,5,3,6,4,7,5,8,6,9,7,8,9,10]\n",
    "        [0,1,1,1,1,2,2,3,3,4,5,6,6,7,7,8,8,8,8],\n",
    "        [0,0,1,2,3,1,4,2,5,3,6,4,7,5,8,6,7,8,9]\n",
    "    )\n",
    "    ), shape=(9,10)).toarray()\n",
    "\n",
    "incidence_matrix_total = np.hstack((incidence_matrix_o, incidence_matrix_b, incidence_matrix_s, -incidence_matrix_s))\n",
    "print(incidence_matrix_total)"
   ]
  },
  {
   "cell_type": "code",
   "execution_count": 48,
   "metadata": {},
   "outputs": [
    {
     "name": "stdout",
     "output_type": "stream",
     "text": [
      "[[-1  0  0  0  1  0  0  0  0  0  0  0  0  0 -1  0  0  0  0  0  0  0  0  0]\n",
      " [ 0  0  0  0 -1  1  1  1  0  0  0  0  0  0  1 -1 -1 -1  0  0  0  0  0  0]\n",
      " [ 0  1  0  0  0 -1  0  0  1  0  0  0  0  0  0  1  0  0 -1  0  0  0  0  0]\n",
      " [ 0  0  1  0  0  0 -1  0  0  1  0  0  0  0  0  0  1  0  0 -1  0  0  0  0]\n",
      " [ 0  0  0  1  0  0  0 -1  0  0  0  0  0  0  0  0  0  1  0  0  0  0  0  0]\n",
      " [ 0 -1  0  0  0  0  0  0  0  0  1  0  0  0  0  0  0  0  0  0 -1  0  0  0]\n",
      " [ 0  0 -1  0  0  0  0  0 -1  0  0  1  0  0  0  0  0  0  1  0  0 -1  0  0]\n",
      " [ 0  0  0 -1  0  0  0  0  0 -1  0  0  1  0  0  0  0  0  0  1  0  0 -1  0]\n",
      " [ 0  0  0  0  0  0  0  0  0  0 -1 -1 -1  1  0  0  0  0  0  0  1  1  1 -1]\n",
      " [ 1  0  0  0  0  0  0  0  0  0  0  0  0 -1  0  0  0  0  0  0  0  0  0  1]]\n"
     ]
    }
   ],
   "source": [
    "fix_matrix = sp.coo_matrix(([1,-1,1],([0,0,0],[0,13,23])),shape=(1,24)).toarray()\n",
    "fix_incidence_matrix_total = np.vstack((incidence_matrix_total, fix_matrix))\n",
    "print(fix_incidence_matrix_total)"
   ]
  },
  {
   "cell_type": "code",
   "execution_count": 49,
   "metadata": {},
   "outputs": [
    {
     "name": "stdout",
     "output_type": "stream",
     "text": [
      "[[0. 1. 0. 0. 0. 0. 0. 0. 0. 0.]\n",
      " [1. 0. 1. 1. 1. 0. 0. 0. 0. 0.]\n",
      " [0. 1. 0. 0. 0. 1. 1. 0. 0. 0.]\n",
      " [0. 1. 0. 0. 0. 0. 1. 1. 0. 0.]\n",
      " [0. 1. 0. 0. 0. 0. 0. 1. 0. 0.]\n",
      " [0. 0. 0. 0. 0. 0. 0. 0. 1. 0.]\n",
      " [0. 0. 1. 0. 0. 0. 0. 0. 1. 0.]\n",
      " [0. 0. 0. 1. 0. 0. 0. 0. 1. 0.]\n",
      " [0. 0. 0. 0. 0. 1. 1. 1. 0. 1.]\n",
      " [1. 0. 0. 0. 0. 0. 0. 0. 1. 0.]]\n"
     ]
    }
   ],
   "source": [
    "# 根据关联矩阵计算邻接矩阵\n",
    "n = fix_incidence_matrix_total.shape[0]\n",
    "adj_matrix_new = np.zeros((n, n))\n",
    "for i in range(n):\n",
    "    for j in range(n):\n",
    "        for k in range(fix_incidence_matrix_total.shape[1]):\n",
    "            if fix_incidence_matrix_total[i, k] == 1 and fix_incidence_matrix_total[j, k] == -1:\n",
    "                adj_matrix_new[i, j] = 1\n",
    "\n",
    "print(adj_matrix_new)"
   ]
  },
  {
   "cell_type": "code",
   "execution_count": 58,
   "metadata": {},
   "outputs": [
    {
     "data": {
      "text/plain": [
       "array([[ 0.,  1.,  0.,  0.,  0.,  0.,  0.,  0.,  0.,  0.],\n",
       "       [ 1.,  0.,  1.,  1.,  1.,  0.,  0.,  0.,  0.,  0.],\n",
       "       [ 0.,  1.,  0.,  0.,  0., 10.,  1.,  0.,  0.,  0.],\n",
       "       [ 0.,  1.,  0.,  0.,  0.,  0., 10.,  1.,  0.,  0.],\n",
       "       [ 0.,  1.,  0.,  0.,  0.,  0.,  0., 10.,  0.,  0.],\n",
       "       [ 0.,  0.,  0.,  0.,  0.,  0.,  0.,  0.,  1.,  0.],\n",
       "       [ 0.,  0.,  1.,  0.,  0.,  0.,  0.,  0.,  1.,  0.],\n",
       "       [ 0.,  0.,  0.,  1.,  0.,  0.,  0.,  0.,  1.,  0.],\n",
       "       [ 0.,  0.,  0.,  0.,  0.,  1.,  1.,  1.,  0.,  1.],\n",
       "       [10.,  0.,  0.,  0.,  0.,  0.,  0.,  0.,  1.,  0.]])"
      ]
     },
     "execution_count": 58,
     "metadata": {},
     "output_type": "execute_result"
    }
   ],
   "source": [
    "d = adj_matrix_new-adj_matrix_new.transpose()\n",
    "additional_weight = np.where(d == 1, incidence_matrix_s.shape[1]-1, 0)\n",
    "adj_matrix_weight = adj_matrix_new + additional_weight"
   ]
  },
  {
   "cell_type": "code",
   "execution_count": 59,
   "metadata": {},
   "outputs": [
    {
     "data": {
      "image/png": "[encoded data removed]",
      "image/svg+xml": "<?xml version=\"1.0\" encoding=\"utf-8\" standalone=\"no\"?>\n<!DOCTYPE svg PUBLIC \"-//W3C//DTD SVG 1.1//EN\"\n  \"http://www.w3.org/Graphics/SVG/1.1/DTD/svg11.dtd\">\n<svg xmlns:xlink=\"http://www.w3.org/1999/xlink\" width=\"371.52pt\" height=\"280.512pt\" viewBox=\"0 0 371.52 280.512\" xmlns=\"http://www.w3.org/2000/svg\" version=\"1.1\">\n <metadata>\n  <rdf:RDF xmlns:dc=\"http://purl.org/dc/elements/1.1/\" xmlns:cc=\"http://creativecommons.org/ns#\" xmlns:rdf=\"http://www.w3.org/1999/02/22-rdf-syntax-ns#\">\n   <cc:Work>\n    <dc:type rdf:resource=\"http://purl.org/dc/dcmitype/StillImage\"/>\n    <dc:date>2023-03-24T22:51:40.655535</dc:date>\n    <dc:format>image/svg+xml</dc:format>\n    <dc:creator>\n     <cc:Agent>\n      <dc:title>Matplotlib v3.6.2, https://matplotlib.org/</dc:title>\n     </cc:Agent>\n    </dc:creator>\n   </cc:Work>\n  </rdf:RDF>\n </metadata>\n <defs>\n  <style type=\"text/css\">*{stroke-linejoin: round; stroke-linecap: butt}</style>\n </defs>\n <g id=\"figure_1\">\n  <g id=\"patch_1\">\n   <path d=\"M 0 280.512 \nL 371.52 280.512 \nL 371.52 0 \nL 0 0 \nz\n\" style=\"fill: #ffffff\"/>\n  </g>\n  <g id=\"axes_1\">\n   <g id=\"patch_2\">\n    <path d=\"M 7.2 273.312 \nL 364.32 273.312 \nL 364.32 7.2 \nL 7.2 7.2 \nz\n\" style=\"fill: #ffffff\"/>\n   </g>\n   <g id=\"patch_3\">\n    <path d=\"M 201.338877 210.527375 \nQ 218.114043 164.62661 234.505433 119.775947 \n\" clip-path=\"url(#p3e002dd824)\" style=\"fill: none; stroke: #000000; stroke-linecap: round\"/>\n    <path d=\"M 231.253911 122.846388 \nL 234.505433 119.775947 \nL 235.010872 124.219429 \nL 231.253911 122.846388 \nz\n\" clip-path=\"url(#p3e002dd824)\" style=\"stroke: #000000; stroke-linecap: round\"/>\n   </g>\n   <g id=\"patch_4\">\n    <path d=\"M 234.888257 118.728451 \nQ 218.113091 164.629216 201.721702 209.479878 \n\" clip-path=\"url(#p3e002dd824)\" style=\"fill: none; stroke: #000000; stroke-linecap: round\"/>\n    <path d=\"M 204.973224 206.409438 \nL 201.721702 209.479878 \nL 201.216262 205.036396 \nL 204.973224 206.409438 \nz\n\" clip-path=\"url(#p3e002dd824)\" style=\"stroke: #000000; stroke-linecap: round\"/>\n   </g>\n   <g id=\"patch_5\">\n    <path d=\"M 231.030186 105.274545 \nQ 187.055779 71.04629 143.963643 37.504767 \n\" clip-path=\"url(#p3e002dd824)\" style=\"fill: none; stroke: #000000; stroke-linecap: round\"/>\n    <path d=\"M 145.891689 41.539942 \nL 143.963643 37.504767 \nL 148.348611 38.383436 \nL 145.891689 41.539942 \nz\n\" clip-path=\"url(#p3e002dd824)\" style=\"stroke: #000000; stroke-linecap: round\"/>\n   </g>\n   <g id=\"patch_6\">\n    <path d=\"M 229.200335 110.469493 \nQ 169.666522 109.626955 111.250632 108.800239 \n\" clip-path=\"url(#p3e002dd824)\" style=\"fill: none; stroke: #000000; stroke-linecap: round\"/>\n    <path d=\"M 115.22193 110.856642 \nL 111.250632 108.800239 \nL 115.278533 106.857042 \nL 115.22193 110.856642 \nz\n\" clip-path=\"url(#p3e002dd824)\" style=\"stroke: #000000; stroke-linecap: round\"/>\n   </g>\n   <g id=\"patch_7\">\n    <path d=\"M 245.503845 114.663377 \nQ 285.596351 136.02276 324.702119 156.856456 \n\" clip-path=\"url(#p3e002dd824)\" style=\"fill: none; stroke: #000000; stroke-linecap: round\"/>\n    <path d=\"M 322.112235 153.210568 \nL 324.702119 156.856456 \nL 320.231478 156.740831 \nL 322.112235 153.210568 \nz\n\" clip-path=\"url(#p3e002dd824)\" style=\"stroke: #000000; stroke-linecap: round\"/>\n   </g>\n   <g id=\"patch_8\">\n    <path d=\"M 143.077853 36.815297 \nQ 187.05226 71.043551 230.144396 104.585074 \n\" clip-path=\"url(#p3e002dd824)\" style=\"fill: none; stroke: #000000; stroke-linecap: round\"/>\n    <path d=\"M 228.216351 100.549899 \nL 230.144396 104.585074 \nL 225.759428 103.706405 \nL 228.216351 100.549899 \nz\n\" clip-path=\"url(#p3e002dd824)\" style=\"stroke: #000000; stroke-linecap: round\"/>\n   </g>\n   <g id=\"patch_9\">\n    <path d=\"M 127.585539 31.287426 \nQ 111.430016 30.895055 96.392198 30.529831 \n\" clip-path=\"url(#p3e002dd824)\" style=\"fill: none; stroke: #000000; stroke-linecap: round\"/>\n    <path d=\"M 100.342459 32.626361 \nL 96.392198 30.529831 \nL 100.439579 28.62754 \nL 100.342459 32.626361 \nz\n\" clip-path=\"url(#p3e002dd824)\" style=\"stroke: #000000; stroke-linecap: round\"/>\n   </g>\n   <g id=\"patch_10\">\n    <path d=\"M 128.792031 35.902581 \nQ 87.219443 60.468581 46.609396 84.465798 \n\" clip-path=\"url(#p3e002dd824)\" style=\"fill: none; stroke: #000000; stroke-linecap: round\"/>\n    <path d=\"M 51.070559 84.152704 \nL 46.609396 84.465798 \nL 49.035618 80.709011 \nL 51.070559 84.152704 \nz\n\" clip-path=\"url(#p3e002dd824)\" style=\"stroke: #000000; stroke-linecap: round\"/>\n   </g>\n   <g id=\"patch_11\">\n    <path d=\"M 110.137077 108.784479 \nQ 169.670889 109.627017 228.08678 110.453734 \n\" clip-path=\"url(#p3e002dd824)\" style=\"fill: none; stroke: #000000; stroke-linecap: round\"/>\n    <path d=\"M 224.115482 108.39733 \nL 228.08678 110.453734 \nL 224.058878 112.39693 \nL 224.115482 108.39733 \nz\n\" clip-path=\"url(#p3e002dd824)\" style=\"stroke: #000000; stroke-linecap: round\"/>\n   </g>\n   <g id=\"patch_12\">\n    <path d=\"M 93.190178 106.145507 \nQ 69.834131 99.051954 47.547868 92.283308 \n\" clip-path=\"url(#p3e002dd824)\" style=\"fill: none; stroke: #000000; stroke-linecap: round\"/>\n    <path d=\"M 50.794026 95.359419 \nL 47.547868 92.283308 \nL 51.956451 91.532048 \nL 50.794026 95.359419 \nz\n\" clip-path=\"url(#p3e002dd824)\" style=\"stroke: #000000; stroke-linecap: round\"/>\n   </g>\n   <g id=\"patch_13\">\n    <path d=\"M 109.744957 111.226324 \nQ 185.967906 134.863912 261.122991 158.170342 \n\" clip-path=\"url(#p3e002dd824)\" style=\"fill: none; stroke: #000000; stroke-linecap: round\"/>\n    <path d=\"M 257.894874 155.075305 \nL 261.122991 158.170342 \nL 256.710091 158.895814 \nL 257.894874 155.075305 \nz\n\" clip-path=\"url(#p3e002dd824)\" style=\"stroke: #000000; stroke-linecap: round\"/>\n   </g>\n   <g id=\"patch_14\">\n    <path d=\"M 325.688229 157.381809 \nQ 285.595723 136.022425 246.489955 115.18873 \n\" clip-path=\"url(#p3e002dd824)\" style=\"fill: none; stroke: #000000; stroke-linecap: round\"/>\n    <path d=\"M 249.07984 118.834617 \nL 246.489955 115.18873 \nL 250.960596 115.304355 \nL 249.07984 118.834617 \nz\n\" clip-path=\"url(#p3e002dd824)\" style=\"stroke: #000000; stroke-linecap: round\"/>\n   </g>\n   <g id=\"patch_15\">\n    <path d=\"M 324.669838 161.399879 \nQ 301.895478 161.259889 280.23913 161.126771 \n\" clip-path=\"url(#p3e002dd824)\" style=\"fill: none; stroke: #000000; stroke-linecap: round\"/>\n    <path d=\"M 284.226761 163.15132 \nL 280.23913 161.126771 \nL 284.251348 159.151396 \nL 284.226761 163.15132 \nz\n\" clip-path=\"url(#p3e002dd824)\" style=\"stroke: #000000; stroke-linecap: round\"/>\n   </g>\n   <g id=\"patch_16\">\n    <path d=\"M 90.967486 37.775106 \nQ 120.590548 88.699246 149.651436 138.65697 \n\" clip-path=\"url(#p3e002dd824)\" style=\"fill: none; stroke: #000000; stroke-linecap: round\"/>\n    <path d=\"M 149.368921 134.193767 \nL 149.651436 138.65697 \nL 145.911364 136.205061 \nL 149.368921 134.193767 \nz\n\" clip-path=\"url(#p3e002dd824)\" style=\"stroke: #000000; stroke-linecap: round\"/>\n   </g>\n   <g id=\"patch_17\">\n    <path d=\"M 45.643934 85.036307 \nQ 87.216522 60.470307 127.826569 36.47309 \n\" clip-path=\"url(#p3e002dd824)\" style=\"fill: none; stroke: #000000; stroke-linecap: round\"/>\n    <path d=\"M 123.365406 36.786184 \nL 127.826569 36.47309 \nL 125.400347 40.229877 \nL 123.365406 36.786184 \nz\n\" clip-path=\"url(#p3e002dd824)\" style=\"stroke: #000000; stroke-linecap: round\"/>\n   </g>\n   <g id=\"patch_18\">\n    <path d=\"M 45.949897 93.286351 \nQ 96.378584 118.274285 145.805478 142.765821 \n\" clip-path=\"url(#p3e002dd824)\" style=\"fill: none; stroke: #000000; stroke-linecap: round\"/>\n    <path d=\"M 143.10934 139.19779 \nL 145.805478 142.765821 \nL 141.333371 142.781912 \nL 143.10934 139.19779 \nz\n\" clip-path=\"url(#p3e002dd824)\" style=\"stroke: #000000; stroke-linecap: round\"/>\n   </g>\n   <g id=\"patch_19\">\n    <path d=\"M 262.193286 158.502253 \nQ 185.970337 134.864665 110.815252 111.558235 \n\" clip-path=\"url(#p3e002dd824)\" style=\"fill: none; stroke: #000000; stroke-linecap: round\"/>\n    <path d=\"M 114.043369 114.653272 \nL 110.815252 111.558235 \nL 115.228152 110.832763 \nL 114.043369 114.653272 \nz\n\" clip-path=\"url(#p3e002dd824)\" style=\"stroke: #000000; stroke-linecap: round\"/>\n   </g>\n   <g id=\"patch_20\">\n    <path d=\"M 261.864569 160.031054 \nQ 212.513543 154.086818 164.272529 148.27628 \n\" clip-path=\"url(#p3e002dd824)\" style=\"fill: none; stroke: #000000; stroke-linecap: round\"/>\n    <path d=\"M 168.004658 150.740263 \nL 164.272529 148.27628 \nL 168.482993 146.768967 \nL 168.004658 150.740263 \nz\n\" clip-path=\"url(#p3e002dd824)\" style=\"stroke: #000000; stroke-linecap: round\"/>\n   </g>\n   <g id=\"patch_21\">\n    <path d=\"M 150.214277 139.624533 \nQ 120.591215 88.700392 91.530327 38.742668 \n\" clip-path=\"url(#p3e002dd824)\" style=\"fill: none; stroke: #000000; stroke-linecap: round\"/>\n    <path d=\"M 91.812842 43.205872 \nL 91.530327 38.742668 \nL 95.270399 41.194578 \nL 91.812842 43.205872 \nz\n\" clip-path=\"url(#p3e002dd824)\" style=\"stroke: #000000; stroke-linecap: round\"/>\n   </g>\n   <g id=\"patch_22\">\n    <path d=\"M 146.806915 143.262043 \nQ 96.378228 118.274109 46.951334 93.782574 \n\" clip-path=\"url(#p3e002dd824)\" style=\"fill: none; stroke: #000000; stroke-linecap: round\"/>\n    <path d=\"M 49.647472 97.350604 \nL 46.951334 93.782574 \nL 51.423441 93.766482 \nL 49.647472 97.350604 \nz\n\" clip-path=\"url(#p3e002dd824)\" style=\"stroke: #000000; stroke-linecap: round\"/>\n   </g>\n   <g id=\"patch_23\">\n    <path d=\"M 163.16515 148.142898 \nQ 212.516175 154.087135 260.757189 159.897672 \n\" clip-path=\"url(#p3e002dd824)\" style=\"fill: none; stroke: #000000; stroke-linecap: round\"/>\n    <path d=\"M 257.02506 157.433689 \nL 260.757189 159.897672 \nL 256.546725 161.404985 \nL 257.02506 157.433689 \nz\n\" clip-path=\"url(#p3e002dd824)\" style=\"stroke: #000000; stroke-linecap: round\"/>\n   </g>\n   <g id=\"patch_24\">\n    <path d=\"M 159.853799 153.96402 \nQ 194.31741 198.662311 228.098344 242.47519 \n\" clip-path=\"url(#p3e002dd824)\" style=\"fill: none; stroke: #000000; stroke-linecap: round\"/>\n    <path d=\"M 227.239799 238.086238 \nL 228.098344 242.47519 \nL 224.072055 240.528655 \nL 227.239799 238.086238 \nz\n\" clip-path=\"url(#p3e002dd824)\" style=\"stroke: #000000; stroke-linecap: round\"/>\n   </g>\n   <g id=\"patch_25\">\n    <path d=\"M 227.58201 244.48588 \nQ 216.217383 234.441665 205.690494 225.137854 \n\" clip-path=\"url(#p3e002dd824)\" style=\"fill: none; stroke: #000000; stroke-linecap: round\"/>\n    <path d=\"M 207.363198 229.285391 \nL 205.690494 225.137854 \nL 210.012146 226.288213 \nL 207.363198 229.285391 \nz\n\" clip-path=\"url(#p3e002dd824)\" style=\"stroke: #000000; stroke-linecap: round\"/>\n   </g>\n   <g id=\"patch_26\">\n    <path d=\"M 228.782786 243.362891 \nQ 194.319175 198.664601 160.538241 154.851721 \n\" clip-path=\"url(#p3e002dd824)\" style=\"fill: none; stroke: #000000; stroke-linecap: round\"/>\n    <path d=\"M 161.396787 159.240673 \nL 160.538241 154.851721 \nL 164.56453 156.798256 \nL 161.396787 159.240673 \nz\n\" clip-path=\"url(#p3e002dd824)\" style=\"stroke: #000000; stroke-linecap: round\"/>\n   </g>\n   <g id=\"matplotlib.axis_1\">\n    <g id=\"xtick_1\"/>\n    <g id=\"xtick_2\"/>\n    <g id=\"xtick_3\"/>\n    <g id=\"xtick_4\"/>\n    <g id=\"xtick_5\"/>\n   </g>\n   <g id=\"matplotlib.axis_2\">\n    <g id=\"ytick_1\"/>\n    <g id=\"ytick_2\"/>\n    <g id=\"ytick_3\"/>\n    <g id=\"ytick_4\"/>\n    <g id=\"ytick_5\"/>\n    <g id=\"ytick_6\"/>\n    <g id=\"ytick_7\"/>\n    <g id=\"ytick_8\"/>\n    <g id=\"ytick_9\"/>\n   </g>\n   <g id=\"PathCollection_1\">\n    <defs>\n     <path id=\"mb730882531\" d=\"M 0 8.660254 \nC 2.296726 8.660254 4.499694 7.747755 6.123724 6.123724 \nC 7.747755 4.499694 8.660254 2.296726 8.660254 0 \nC 8.660254 -2.296726 7.747755 -4.499694 6.123724 -6.123724 \nC 4.499694 -7.747755 2.296726 -8.660254 0 -8.660254 \nC -2.296726 -8.660254 -4.499694 -7.747755 -6.123724 -6.123724 \nC -7.747755 -4.499694 -8.660254 -2.296726 -8.660254 0 \nC -8.660254 2.296726 -7.747755 4.499694 -6.123724 6.123724 \nC -4.499694 7.747755 -2.296726 8.660254 0 8.660254 \nz\n\" style=\"stroke: #1f78b4\"/>\n    </defs>\n    <g clip-path=\"url(#p3e002dd824)\">\n     <use xlink:href=\"#mb730882531\" x=\"198.365308\" y=\"218.663753\" style=\"fill: #1f78b4; stroke: #1f78b4\"/>\n     <use xlink:href=\"#mb730882531\" x=\"237.861826\" y=\"110.592073\" style=\"fill: #1f78b4; stroke: #1f78b4\"/>\n     <use xlink:href=\"#mb730882531\" x=\"136.246213\" y=\"31.497769\" style=\"fill: #1f78b4; stroke: #1f78b4\"/>\n     <use xlink:href=\"#mb730882531\" x=\"101.475585\" y=\"108.6619\" style=\"fill: #1f78b4; stroke: #1f78b4\"/>\n     <use xlink:href=\"#mb730882531\" x=\"333.330248\" y=\"161.453113\" style=\"fill: #1f78b4; stroke: #1f78b4\"/>\n     <use xlink:href=\"#mb730882531\" x=\"86.614703\" y=\"30.292364\" style=\"fill: #1f78b4; stroke: #1f78b4\"/>\n     <use xlink:href=\"#mb730882531\" x=\"38.189752\" y=\"89.441119\" style=\"fill: #1f78b4; stroke: #1f78b4\"/>\n     <use xlink:href=\"#mb730882531\" x=\"270.462658\" y=\"161.066677\" style=\"fill: #1f78b4; stroke: #1f78b4\"/>\n     <use xlink:href=\"#mb730882531\" x=\"154.56706\" y=\"147.107275\" style=\"fill: #1f78b4; stroke: #1f78b4\"/>\n     <use xlink:href=\"#mb730882531\" x=\"234.069525\" y=\"250.219636\" style=\"fill: #1f78b4; stroke: #1f78b4\"/>\n    </g>\n   </g>\n   <g id=\"patch_27\">\n    <path d=\"M 7.2 273.312 \nL 7.2 7.2 \n\" style=\"fill: none; stroke: #000000; stroke-width: 0.8; stroke-linejoin: miter; stroke-linecap: square\"/>\n   </g>\n   <g id=\"patch_28\">\n    <path d=\"M 364.32 273.312 \nL 364.32 7.2 \n\" style=\"fill: none; stroke: #000000; stroke-width: 0.8; stroke-linejoin: miter; stroke-linecap: square\"/>\n   </g>\n   <g id=\"patch_29\">\n    <path d=\"M 7.2 273.312 \nL 364.32 273.312 \n\" style=\"fill: none; stroke: #000000; stroke-width: 0.8; stroke-linejoin: miter; stroke-linecap: square\"/>\n   </g>\n   <g id=\"patch_30\">\n    <path d=\"M 7.2 7.2 \nL 364.32 7.2 \n\" style=\"fill: none; stroke: #000000; stroke-width: 0.8; stroke-linejoin: miter; stroke-linecap: square\"/>\n   </g>\n   <g id=\"text_1\">\n    <g clip-path=\"url(#p3e002dd824)\">\n     <!-- 0 -->\n     <g transform=\"translate(194.190621 221.975003) scale(0.12 -0.12)\">\n      <defs>\n       <path id=\"DejaVuSans-Bold-30\" d=\"M 2944 2338 \nQ 2944 3213 2780 3570 \nQ 2616 3928 2228 3928 \nQ 1841 3928 1675 3570 \nQ 1509 3213 1509 2338 \nQ 1509 1453 1675 1090 \nQ 1841 728 2228 728 \nQ 2613 728 2778 1090 \nQ 2944 1453 2944 2338 \nz\nM 4147 2328 \nQ 4147 1169 3647 539 \nQ 3147 -91 2228 -91 \nQ 1306 -91 806 539 \nQ 306 1169 306 2328 \nQ 306 3491 806 4120 \nQ 1306 4750 2228 4750 \nQ 3147 4750 3647 4120 \nQ 4147 3491 4147 2328 \nz\n\" transform=\"scale(0.015625)\"/>\n      </defs>\n      <use xlink:href=\"#DejaVuSans-Bold-30\"/>\n     </g>\n    </g>\n   </g>\n   <g id=\"text_2\">\n    <g clip-path=\"url(#p3e002dd824)\">\n     <!-- 1 -->\n     <g transform=\"translate(233.687139 113.903323) scale(0.12 -0.12)\">\n      <defs>\n       <path id=\"DejaVuSans-Bold-31\" d=\"M 750 831 \nL 1813 831 \nL 1813 3847 \nL 722 3622 \nL 722 4441 \nL 1806 4666 \nL 2950 4666 \nL 2950 831 \nL 4013 831 \nL 4013 0 \nL 750 0 \nL 750 831 \nz\n\" transform=\"scale(0.015625)\"/>\n      </defs>\n      <use xlink:href=\"#DejaVuSans-Bold-31\"/>\n     </g>\n    </g>\n   </g>\n   <g id=\"text_3\">\n    <g clip-path=\"url(#p3e002dd824)\">\n     <!-- 2 -->\n     <g transform=\"translate(132.071525 34.809019) scale(0.12 -0.12)\">\n      <defs>\n       <path id=\"DejaVuSans-Bold-32\" d=\"M 1844 884 \nL 3897 884 \nL 3897 0 \nL 506 0 \nL 506 884 \nL 2209 2388 \nQ 2438 2594 2547 2791 \nQ 2656 2988 2656 3200 \nQ 2656 3528 2436 3728 \nQ 2216 3928 1850 3928 \nQ 1569 3928 1234 3808 \nQ 900 3688 519 3450 \nL 519 4475 \nQ 925 4609 1322 4679 \nQ 1719 4750 2100 4750 \nQ 2938 4750 3402 4381 \nQ 3866 4013 3866 3353 \nQ 3866 2972 3669 2642 \nQ 3472 2313 2841 1759 \nL 1844 884 \nz\n\" transform=\"scale(0.015625)\"/>\n      </defs>\n      <use xlink:href=\"#DejaVuSans-Bold-32\"/>\n     </g>\n    </g>\n   </g>\n   <g id=\"text_4\">\n    <g clip-path=\"url(#p3e002dd824)\">\n     <!-- 3 -->\n     <g transform=\"translate(97.300897 111.97315) scale(0.12 -0.12)\">\n      <defs>\n       <path id=\"DejaVuSans-Bold-33\" d=\"M 2981 2516 \nQ 3453 2394 3698 2092 \nQ 3944 1791 3944 1325 \nQ 3944 631 3412 270 \nQ 2881 -91 1863 -91 \nQ 1503 -91 1142 -33 \nQ 781 25 428 141 \nL 428 1069 \nQ 766 900 1098 814 \nQ 1431 728 1753 728 \nQ 2231 728 2486 893 \nQ 2741 1059 2741 1369 \nQ 2741 1688 2480 1852 \nQ 2219 2016 1709 2016 \nL 1228 2016 \nL 1228 2791 \nL 1734 2791 \nQ 2188 2791 2409 2933 \nQ 2631 3075 2631 3366 \nQ 2631 3634 2415 3781 \nQ 2200 3928 1806 3928 \nQ 1516 3928 1219 3862 \nQ 922 3797 628 3669 \nL 628 4550 \nQ 984 4650 1334 4700 \nQ 1684 4750 2022 4750 \nQ 2931 4750 3382 4451 \nQ 3834 4153 3834 3553 \nQ 3834 3144 3618 2883 \nQ 3403 2622 2981 2516 \nz\n\" transform=\"scale(0.015625)\"/>\n      </defs>\n      <use xlink:href=\"#DejaVuSans-Bold-33\"/>\n     </g>\n    </g>\n   </g>\n   <g id=\"text_5\">\n    <g clip-path=\"url(#p3e002dd824)\">\n     <!-- 4 -->\n     <g transform=\"translate(329.15556 164.764363) scale(0.12 -0.12)\">\n      <defs>\n       <path id=\"DejaVuSans-Bold-34\" d=\"M 2356 3675 \nL 1038 1722 \nL 2356 1722 \nL 2356 3675 \nz\nM 2156 4666 \nL 3494 4666 \nL 3494 1722 \nL 4159 1722 \nL 4159 850 \nL 3494 850 \nL 3494 0 \nL 2356 0 \nL 2356 850 \nL 288 850 \nL 288 1881 \nL 2156 4666 \nz\n\" transform=\"scale(0.015625)\"/>\n      </defs>\n      <use xlink:href=\"#DejaVuSans-Bold-34\"/>\n     </g>\n    </g>\n   </g>\n   <g id=\"text_6\">\n    <g clip-path=\"url(#p3e002dd824)\">\n     <!-- 5 -->\n     <g transform=\"translate(82.440016 33.603614) scale(0.12 -0.12)\">\n      <defs>\n       <path id=\"DejaVuSans-Bold-35\" d=\"M 678 4666 \nL 3669 4666 \nL 3669 3781 \nL 1638 3781 \nL 1638 3059 \nQ 1775 3097 1914 3117 \nQ 2053 3138 2203 3138 \nQ 3056 3138 3531 2711 \nQ 4006 2284 4006 1522 \nQ 4006 766 3489 337 \nQ 2972 -91 2053 -91 \nQ 1656 -91 1267 -14 \nQ 878 63 494 219 \nL 494 1166 \nQ 875 947 1217 837 \nQ 1559 728 1863 728 \nQ 2300 728 2551 942 \nQ 2803 1156 2803 1522 \nQ 2803 1891 2551 2103 \nQ 2300 2316 1863 2316 \nQ 1603 2316 1309 2248 \nQ 1016 2181 678 2041 \nL 678 4666 \nz\n\" transform=\"scale(0.015625)\"/>\n      </defs>\n      <use xlink:href=\"#DejaVuSans-Bold-35\"/>\n     </g>\n    </g>\n   </g>\n   <g id=\"text_7\">\n    <g clip-path=\"url(#p3e002dd824)\">\n     <!-- 6 -->\n     <g transform=\"translate(34.015065 92.752369) scale(0.12 -0.12)\">\n      <defs>\n       <path id=\"DejaVuSans-Bold-36\" d=\"M 2316 2303 \nQ 2000 2303 1842 2098 \nQ 1684 1894 1684 1484 \nQ 1684 1075 1842 870 \nQ 2000 666 2316 666 \nQ 2634 666 2792 870 \nQ 2950 1075 2950 1484 \nQ 2950 1894 2792 2098 \nQ 2634 2303 2316 2303 \nz\nM 3803 4544 \nL 3803 3681 \nQ 3506 3822 3243 3889 \nQ 2981 3956 2731 3956 \nQ 2194 3956 1894 3657 \nQ 1594 3359 1544 2772 \nQ 1750 2925 1990 3001 \nQ 2231 3078 2516 3078 \nQ 3231 3078 3670 2659 \nQ 4109 2241 4109 1563 \nQ 4109 813 3618 361 \nQ 3128 -91 2303 -91 \nQ 1394 -91 895 523 \nQ 397 1138 397 2266 \nQ 397 3422 980 4083 \nQ 1563 4744 2578 4744 \nQ 2900 4744 3203 4694 \nQ 3506 4644 3803 4544 \nz\n\" transform=\"scale(0.015625)\"/>\n      </defs>\n      <use xlink:href=\"#DejaVuSans-Bold-36\"/>\n     </g>\n    </g>\n   </g>\n   <g id=\"text_8\">\n    <g clip-path=\"url(#p3e002dd824)\">\n     <!-- 7 -->\n     <g transform=\"translate(266.287971 164.377927) scale(0.12 -0.12)\">\n      <defs>\n       <path id=\"DejaVuSans-Bold-37\" d=\"M 428 4666 \nL 3944 4666 \nL 3944 3988 \nL 2125 0 \nL 953 0 \nL 2675 3781 \nL 428 3781 \nL 428 4666 \nz\n\" transform=\"scale(0.015625)\"/>\n      </defs>\n      <use xlink:href=\"#DejaVuSans-Bold-37\"/>\n     </g>\n    </g>\n   </g>\n   <g id=\"text_9\">\n    <g clip-path=\"url(#p3e002dd824)\">\n     <!-- 8 -->\n     <g transform=\"translate(150.392372 150.418525) scale(0.12 -0.12)\">\n      <defs>\n       <path id=\"DejaVuSans-Bold-38\" d=\"M 2228 2088 \nQ 1891 2088 1709 1903 \nQ 1528 1719 1528 1375 \nQ 1528 1031 1709 848 \nQ 1891 666 2228 666 \nQ 2563 666 2741 848 \nQ 2919 1031 2919 1375 \nQ 2919 1722 2741 1905 \nQ 2563 2088 2228 2088 \nz\nM 1350 2484 \nQ 925 2613 709 2878 \nQ 494 3144 494 3541 \nQ 494 4131 934 4440 \nQ 1375 4750 2228 4750 \nQ 3075 4750 3515 4442 \nQ 3956 4134 3956 3541 \nQ 3956 3144 3739 2878 \nQ 3522 2613 3097 2484 \nQ 3572 2353 3814 2058 \nQ 4056 1763 4056 1313 \nQ 4056 619 3595 264 \nQ 3134 -91 2228 -91 \nQ 1319 -91 855 264 \nQ 391 619 391 1313 \nQ 391 1763 633 2058 \nQ 875 2353 1350 2484 \nz\nM 1631 3419 \nQ 1631 3141 1786 2991 \nQ 1941 2841 2228 2841 \nQ 2509 2841 2662 2991 \nQ 2816 3141 2816 3419 \nQ 2816 3697 2662 3845 \nQ 2509 3994 2228 3994 \nQ 1941 3994 1786 3844 \nQ 1631 3694 1631 3419 \nz\n\" transform=\"scale(0.015625)\"/>\n      </defs>\n      <use xlink:href=\"#DejaVuSans-Bold-38\"/>\n     </g>\n    </g>\n   </g>\n   <g id=\"text_10\">\n    <g clip-path=\"url(#p3e002dd824)\">\n     <!-- 9 -->\n     <g transform=\"translate(229.894838 253.530886) scale(0.12 -0.12)\">\n      <defs>\n       <path id=\"DejaVuSans-Bold-39\" d=\"M 641 103 \nL 641 966 \nQ 928 831 1190 764 \nQ 1453 697 1709 697 \nQ 2247 697 2547 995 \nQ 2847 1294 2900 1881 \nQ 2688 1725 2447 1647 \nQ 2206 1569 1925 1569 \nQ 1209 1569 770 1986 \nQ 331 2403 331 3084 \nQ 331 3838 820 4291 \nQ 1309 4744 2131 4744 \nQ 3044 4744 3544 4128 \nQ 4044 3513 4044 2388 \nQ 4044 1231 3459 570 \nQ 2875 -91 1856 -91 \nQ 1528 -91 1228 -42 \nQ 928 6 641 103 \nz\nM 2125 2350 \nQ 2441 2350 2600 2554 \nQ 2759 2759 2759 3169 \nQ 2759 3575 2600 3781 \nQ 2441 3988 2125 3988 \nQ 1809 3988 1650 3781 \nQ 1491 3575 1491 3169 \nQ 1491 2759 1650 2554 \nQ 1809 2350 2125 2350 \nz\n\" transform=\"scale(0.015625)\"/>\n      </defs>\n      <use xlink:href=\"#DejaVuSans-Bold-39\"/>\n     </g>\n    </g>\n   </g>\n  </g>\n </g>\n <defs>\n  <clipPath id=\"p3e002dd824\">\n   <rect x=\"7.2\" y=\"7.2\" width=\"357.12\" height=\"266.112\"/>\n  </clipPath>\n </defs>\n</svg>\n",
      "text/plain": [
       "<Figure size 640x480 with 1 Axes>"
      ]
     },
     "metadata": {},
     "output_type": "display_data"
    }
   ],
   "source": [
    "G = nx.DiGraph(adj_matrix_weight)\n",
    "# G.number_of_edges()\n",
    "# G.number_of_nodes()\n",
    "nx.draw_networkx(G, with_labels=True, font_weight='bold')"
   ]
  },
  {
   "cell_type": "code",
   "execution_count": 60,
   "metadata": {},
   "outputs": [
    {
     "name": "stdout",
     "output_type": "stream",
     "text": [
      "(0, 1, {'weight': 1.0})\n",
      "(1, 0, {'weight': 1.0})\n",
      "(1, 2, {'weight': 1.0})\n",
      "(1, 3, {'weight': 1.0})\n",
      "(1, 4, {'weight': 1.0})\n",
      "(2, 1, {'weight': 1.0})\n",
      "(2, 5, {'weight': 10.0})\n",
      "(2, 6, {'weight': 1.0})\n",
      "(3, 1, {'weight': 1.0})\n",
      "(3, 6, {'weight': 10.0})\n",
      "(3, 7, {'weight': 1.0})\n",
      "(4, 1, {'weight': 1.0})\n",
      "(4, 7, {'weight': 10.0})\n",
      "(5, 8, {'weight': 1.0})\n",
      "(6, 2, {'weight': 1.0})\n",
      "(6, 8, {'weight': 1.0})\n",
      "(7, 3, {'weight': 1.0})\n",
      "(7, 8, {'weight': 1.0})\n",
      "(8, 5, {'weight': 1.0})\n",
      "(8, 6, {'weight': 1.0})\n",
      "(8, 7, {'weight': 1.0})\n",
      "(8, 9, {'weight': 1.0})\n",
      "(9, 0, {'weight': 10.0})\n",
      "(9, 8, {'weight': 1.0})\n"
     ]
    }
   ],
   "source": [
    "# 遍历有向图中的所有边，包括它的索引和属性字典等\n",
    "for edge in G.edges(data=True):\n",
    "    print(edge)"
   ]
  },
  {
   "cell_type": "code",
   "execution_count": 67,
   "metadata": {},
   "outputs": [
    {
     "name": "stdout",
     "output_type": "stream",
     "text": [
      "[5, 8, 9]\n",
      "节点0到节点9不存在经过边(2, 5)的最短路径\n"
     ]
    }
   ],
   "source": [
    "\n",
    "# 定义起点、终点和经过的边\n",
    "node_start = 0\n",
    "node_end = 9\n",
    "edge_pass = (2, 5)\n",
    "\n",
    "# 将有向图转换为加权有向图\n",
    "G_weighted = G.copy()\n",
    "for u, v, data in G_weighted.edges(data=True):\n",
    "    if 'weight' in data:\n",
    "        data['weight'] = int(data['weight'])\n",
    "\n",
    "    \n",
    "# 由于给定的边是一条有向边，只要它是在最短路径上，我们就可以确定这条边对应的路径长度\n",
    "# 首先找到从源节点到边起点的路径，和从边终点到目标节点的路径\n",
    "path1 = nx.dijkstra_path(G, node_start, edge_pass[0], weight='weight')\n",
    "path2 = nx.dijkstra_path(G, edge_pass[1], node_end, weight='weight')\n",
    "\n",
    "print(path2)\n",
    "\n",
    "# 如果这两条路径都存在，那么就可以沿着其中的路径组合出完整的路径\n",
    "if path1 is not None and path2 is not None:\n",
    "    # 将两条路径拼接起来，并判断边是否在路径上\n",
    "    idx1 = path1.index(edge_pass[0])\n",
    "    idx2 = path2.index(edge_pass[1])\n",
    "    # 如果边在路径上，需要合并两条路径并计算路径长度 #TODO\n",
    "    if idx1 != len(path1) - 1 and idx2 != 0: \n",
    "        print(\"存在一条从节点{}到节点{}并经过边{}的最短路径：{}\".format(node_start, node_end, edge_pass, path1[:idx1+1]+path2[idx2:]))\n",
    "        print(\"路径长度为：{}\".format(nx.dijkstra_path_length(G, node_start, edge_pass[0], weight='weight') + G[edge_pass[0]][edge_pass[1]]['weight'] + nx.dijkstra_path_length(G, edge_pass[1], node_end, weight='weight')))\n",
    "    else:\n",
    "        print(\"节点{}到节点{}不存在经过边{}的最短路径\".format(node_start, node_end, edge_pass))\n",
    "else:\n",
    "    print(\"节点{}到节点{}不存在经过边{}的最短路径\".format(node_start, node_end, edge_pass))\n"
   ]
  }
 ],
 "metadata": {
  "kernelspec": {
   "display_name": "base",
   "language": "python",
   "name": "python3"
  },
  "language_info": {
   "codemirror_mode": {
    "name": "ipython",
    "version": 3
   },
   "file_extension": ".py",
   "mimetype": "text/x-python",
   "name": "python",
   "nbconvert_exporter": "python",
   "pygments_lexer": "ipython3",
   "version": "3.9.16"
  },
  "orig_nbformat": 4
 },
 "nbformat": 4,
 "nbformat_minor": 2
}
